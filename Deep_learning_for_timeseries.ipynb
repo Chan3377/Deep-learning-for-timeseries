{
  "cells": [
    {
      "cell_type": "markdown",
      "metadata": {
        "id": "XtmCfxcKWSIH"
      },
      "source": [
        "# Deep learning for timeseries"
      ]
    },
    {
      "cell_type": "markdown",
      "metadata": {
        "id": "9syTTKy8WSIJ"
      },
      "source": [
        "## Timeseries Forecasting Appliation"
      ]
    },
    {
      "cell_type": "markdown",
      "source": [
        "The most common timeseries-related task is forecasting: predicting what will happen next in a series:\n",
        "\n",
        "* Forecast ***electricity consumption*** a few hours in advance so you can anticipate demand\n",
        "* Forecast ***revenue*** a few months in advance so you can plan your budget\n",
        "* Forecast the ***weather*** a few days in advance so you can plan your schedule"
      ],
      "metadata": {
        "id": "JnLVFjnERKWl"
      }
    },
    {
      "cell_type": "markdown",
      "metadata": {
        "id": "JeGcVXTxWSIK"
      },
      "source": [
        "## A temperature-forecasting example"
      ]
    },
    {
      "cell_type": "markdown",
      "source": [
        "Code examples will target a single problem:\n",
        "\n",
        "* Predicting the temperature 24 hours in the future, given a timeseries of hourly measurements of quantities such as atmospheric pressure and humidity, recorded over the recent past by a set of sensors on the roof of a building."
      ],
      "metadata": {
        "id": "BK4oOR-jRxz1"
      }
    },
    {
      "cell_type": "markdown",
      "source": [
        "Work with a weather timeseries dataset recorded at the weather station at the Max Planck Institute for Biogeochemistry in Jena, Germany.1 In this dataset, 14 different quantities (such as temperature, pressure, humidity, wind direction, and so on) were recorded every 10 minutes over several years"
      ],
      "metadata": {
        "id": "VYRE0NItWwyC"
      }
    },
    {
      "cell_type": "code",
      "execution_count": null,
      "metadata": {
        "colab": {
          "base_uri": "https://localhost:8080/"
        },
        "id": "AA2Z8nIvWSIL",
        "outputId": "ba03b5b5-6a41-436f-ec46-ca1ea4b51b29"
      },
      "outputs": [
        {
          "output_type": "stream",
          "name": "stdout",
          "text": [
            "--2024-01-10 10:37:55--  https://s3.amazonaws.com/keras-datasets/jena_climate_2009_2016.csv.zip\n",
            "Resolving s3.amazonaws.com (s3.amazonaws.com)... 52.216.220.24, 54.231.225.216, 52.217.73.30, ...\n",
            "Connecting to s3.amazonaws.com (s3.amazonaws.com)|52.216.220.24|:443... connected.\n",
            "HTTP request sent, awaiting response... 200 OK\n",
            "Length: 13565642 (13M) [application/zip]\n",
            "Saving to: ‘jena_climate_2009_2016.csv.zip’\n",
            "\n",
            "jena_climate_2009_2 100%[===================>]  12.94M  13.7MB/s    in 0.9s    \n",
            "\n",
            "2024-01-10 10:37:56 (13.7 MB/s) - ‘jena_climate_2009_2016.csv.zip’ saved [13565642/13565642]\n",
            "\n",
            "Archive:  jena_climate_2009_2016.csv.zip\n",
            "  inflating: jena_climate_2009_2016.csv  \n",
            "  inflating: __MACOSX/._jena_climate_2009_2016.csv  \n"
          ]
        }
      ],
      "source": [
        "# download the data\n",
        "!wget https://s3.amazonaws.com/keras-datasets/jena_climate_2009_2016.csv.zip\n",
        "!unzip jena_climate_2009_2016.csv.zip"
      ]
    },
    {
      "cell_type": "markdown",
      "metadata": {
        "id": "6tEB1OODWSIO"
      },
      "source": [
        "**Inspecting the data of the Jena weather dataset**"
      ]
    },
    {
      "cell_type": "code",
      "source": [
        "import pandas as pd\n",
        "import os"
      ],
      "metadata": {
        "id": "2ZcK3o2cXkuw"
      },
      "execution_count": null,
      "outputs": []
    },
    {
      "cell_type": "code",
      "execution_count": null,
      "metadata": {
        "colab": {
          "base_uri": "https://localhost:8080/",
          "height": 348
        },
        "id": "pXlTb98WWSIO",
        "outputId": "86ebfd8f-dd9f-4671-d733-0e950e0e8188"
      },
      "outputs": [
        {
          "output_type": "execute_result",
          "data": {
            "text/plain": [
              "             Date Time  p (mbar)  T (degC)  Tpot (K)  Tdew (degC)  rh (%)  \\\n",
              "0  01.01.2009 00:10:00    996.52     -8.02    265.40        -8.90    93.3   \n",
              "1  01.01.2009 00:20:00    996.57     -8.41    265.01        -9.28    93.4   \n",
              "2  01.01.2009 00:30:00    996.53     -8.51    264.91        -9.31    93.9   \n",
              "3  01.01.2009 00:40:00    996.51     -8.31    265.12        -9.07    94.2   \n",
              "4  01.01.2009 00:50:00    996.51     -8.27    265.15        -9.04    94.1   \n",
              "\n",
              "   VPmax (mbar)  VPact (mbar)  VPdef (mbar)  sh (g/kg)  H2OC (mmol/mol)  \\\n",
              "0          3.33          3.11          0.22       1.94             3.12   \n",
              "1          3.23          3.02          0.21       1.89             3.03   \n",
              "2          3.21          3.01          0.20       1.88             3.02   \n",
              "3          3.26          3.07          0.19       1.92             3.08   \n",
              "4          3.27          3.08          0.19       1.92             3.09   \n",
              "\n",
              "   rho (g/m**3)  wv (m/s)  max. wv (m/s)  wd (deg)  \n",
              "0       1307.75      1.03           1.75     152.3  \n",
              "1       1309.80      0.72           1.50     136.1  \n",
              "2       1310.24      0.19           0.63     171.6  \n",
              "3       1309.19      0.34           0.50     198.0  \n",
              "4       1309.00      0.32           0.63     214.3  "
            ],
            "text/html": [
              "\n",
              "  <div id=\"df-2e751354-42d5-44f4-9f24-32988d146209\" class=\"colab-df-container\">\n",
              "    <div>\n",
              "<style scoped>\n",
              "    .dataframe tbody tr th:only-of-type {\n",
              "        vertical-align: middle;\n",
              "    }\n",
              "\n",
              "    .dataframe tbody tr th {\n",
              "        vertical-align: top;\n",
              "    }\n",
              "\n",
              "    .dataframe thead th {\n",
              "        text-align: right;\n",
              "    }\n",
              "</style>\n",
              "<table border=\"1\" class=\"dataframe\">\n",
              "  <thead>\n",
              "    <tr style=\"text-align: right;\">\n",
              "      <th></th>\n",
              "      <th>Date Time</th>\n",
              "      <th>p (mbar)</th>\n",
              "      <th>T (degC)</th>\n",
              "      <th>Tpot (K)</th>\n",
              "      <th>Tdew (degC)</th>\n",
              "      <th>rh (%)</th>\n",
              "      <th>VPmax (mbar)</th>\n",
              "      <th>VPact (mbar)</th>\n",
              "      <th>VPdef (mbar)</th>\n",
              "      <th>sh (g/kg)</th>\n",
              "      <th>H2OC (mmol/mol)</th>\n",
              "      <th>rho (g/m**3)</th>\n",
              "      <th>wv (m/s)</th>\n",
              "      <th>max. wv (m/s)</th>\n",
              "      <th>wd (deg)</th>\n",
              "    </tr>\n",
              "  </thead>\n",
              "  <tbody>\n",
              "    <tr>\n",
              "      <th>0</th>\n",
              "      <td>01.01.2009 00:10:00</td>\n",
              "      <td>996.52</td>\n",
              "      <td>-8.02</td>\n",
              "      <td>265.40</td>\n",
              "      <td>-8.90</td>\n",
              "      <td>93.3</td>\n",
              "      <td>3.33</td>\n",
              "      <td>3.11</td>\n",
              "      <td>0.22</td>\n",
              "      <td>1.94</td>\n",
              "      <td>3.12</td>\n",
              "      <td>1307.75</td>\n",
              "      <td>1.03</td>\n",
              "      <td>1.75</td>\n",
              "      <td>152.3</td>\n",
              "    </tr>\n",
              "    <tr>\n",
              "      <th>1</th>\n",
              "      <td>01.01.2009 00:20:00</td>\n",
              "      <td>996.57</td>\n",
              "      <td>-8.41</td>\n",
              "      <td>265.01</td>\n",
              "      <td>-9.28</td>\n",
              "      <td>93.4</td>\n",
              "      <td>3.23</td>\n",
              "      <td>3.02</td>\n",
              "      <td>0.21</td>\n",
              "      <td>1.89</td>\n",
              "      <td>3.03</td>\n",
              "      <td>1309.80</td>\n",
              "      <td>0.72</td>\n",
              "      <td>1.50</td>\n",
              "      <td>136.1</td>\n",
              "    </tr>\n",
              "    <tr>\n",
              "      <th>2</th>\n",
              "      <td>01.01.2009 00:30:00</td>\n",
              "      <td>996.53</td>\n",
              "      <td>-8.51</td>\n",
              "      <td>264.91</td>\n",
              "      <td>-9.31</td>\n",
              "      <td>93.9</td>\n",
              "      <td>3.21</td>\n",
              "      <td>3.01</td>\n",
              "      <td>0.20</td>\n",
              "      <td>1.88</td>\n",
              "      <td>3.02</td>\n",
              "      <td>1310.24</td>\n",
              "      <td>0.19</td>\n",
              "      <td>0.63</td>\n",
              "      <td>171.6</td>\n",
              "    </tr>\n",
              "    <tr>\n",
              "      <th>3</th>\n",
              "      <td>01.01.2009 00:40:00</td>\n",
              "      <td>996.51</td>\n",
              "      <td>-8.31</td>\n",
              "      <td>265.12</td>\n",
              "      <td>-9.07</td>\n",
              "      <td>94.2</td>\n",
              "      <td>3.26</td>\n",
              "      <td>3.07</td>\n",
              "      <td>0.19</td>\n",
              "      <td>1.92</td>\n",
              "      <td>3.08</td>\n",
              "      <td>1309.19</td>\n",
              "      <td>0.34</td>\n",
              "      <td>0.50</td>\n",
              "      <td>198.0</td>\n",
              "    </tr>\n",
              "    <tr>\n",
              "      <th>4</th>\n",
              "      <td>01.01.2009 00:50:00</td>\n",
              "      <td>996.51</td>\n",
              "      <td>-8.27</td>\n",
              "      <td>265.15</td>\n",
              "      <td>-9.04</td>\n",
              "      <td>94.1</td>\n",
              "      <td>3.27</td>\n",
              "      <td>3.08</td>\n",
              "      <td>0.19</td>\n",
              "      <td>1.92</td>\n",
              "      <td>3.09</td>\n",
              "      <td>1309.00</td>\n",
              "      <td>0.32</td>\n",
              "      <td>0.63</td>\n",
              "      <td>214.3</td>\n",
              "    </tr>\n",
              "  </tbody>\n",
              "</table>\n",
              "</div>\n",
              "    <div class=\"colab-df-buttons\">\n",
              "\n",
              "  <div class=\"colab-df-container\">\n",
              "    <button class=\"colab-df-convert\" onclick=\"convertToInteractive('df-2e751354-42d5-44f4-9f24-32988d146209')\"\n",
              "            title=\"Convert this dataframe to an interactive table.\"\n",
              "            style=\"display:none;\">\n",
              "\n",
              "  <svg xmlns=\"http://www.w3.org/2000/svg\" height=\"24px\" viewBox=\"0 -960 960 960\">\n",
              "    <path d=\"M120-120v-720h720v720H120Zm60-500h600v-160H180v160Zm220 220h160v-160H400v160Zm0 220h160v-160H400v160ZM180-400h160v-160H180v160Zm440 0h160v-160H620v160ZM180-180h160v-160H180v160Zm440 0h160v-160H620v160Z\"/>\n",
              "  </svg>\n",
              "    </button>\n",
              "\n",
              "  <style>\n",
              "    .colab-df-container {\n",
              "      display:flex;\n",
              "      gap: 12px;\n",
              "    }\n",
              "\n",
              "    .colab-df-convert {\n",
              "      background-color: #E8F0FE;\n",
              "      border: none;\n",
              "      border-radius: 50%;\n",
              "      cursor: pointer;\n",
              "      display: none;\n",
              "      fill: #1967D2;\n",
              "      height: 32px;\n",
              "      padding: 0 0 0 0;\n",
              "      width: 32px;\n",
              "    }\n",
              "\n",
              "    .colab-df-convert:hover {\n",
              "      background-color: #E2EBFA;\n",
              "      box-shadow: 0px 1px 2px rgba(60, 64, 67, 0.3), 0px 1px 3px 1px rgba(60, 64, 67, 0.15);\n",
              "      fill: #174EA6;\n",
              "    }\n",
              "\n",
              "    .colab-df-buttons div {\n",
              "      margin-bottom: 4px;\n",
              "    }\n",
              "\n",
              "    [theme=dark] .colab-df-convert {\n",
              "      background-color: #3B4455;\n",
              "      fill: #D2E3FC;\n",
              "    }\n",
              "\n",
              "    [theme=dark] .colab-df-convert:hover {\n",
              "      background-color: #434B5C;\n",
              "      box-shadow: 0px 1px 3px 1px rgba(0, 0, 0, 0.15);\n",
              "      filter: drop-shadow(0px 1px 2px rgba(0, 0, 0, 0.3));\n",
              "      fill: #FFFFFF;\n",
              "    }\n",
              "  </style>\n",
              "\n",
              "    <script>\n",
              "      const buttonEl =\n",
              "        document.querySelector('#df-2e751354-42d5-44f4-9f24-32988d146209 button.colab-df-convert');\n",
              "      buttonEl.style.display =\n",
              "        google.colab.kernel.accessAllowed ? 'block' : 'none';\n",
              "\n",
              "      async function convertToInteractive(key) {\n",
              "        const element = document.querySelector('#df-2e751354-42d5-44f4-9f24-32988d146209');\n",
              "        const dataTable =\n",
              "          await google.colab.kernel.invokeFunction('convertToInteractive',\n",
              "                                                    [key], {});\n",
              "        if (!dataTable) return;\n",
              "\n",
              "        const docLinkHtml = 'Like what you see? Visit the ' +\n",
              "          '<a target=\"_blank\" href=https://colab.research.google.com/notebooks/data_table.ipynb>data table notebook</a>'\n",
              "          + ' to learn more about interactive tables.';\n",
              "        element.innerHTML = '';\n",
              "        dataTable['output_type'] = 'display_data';\n",
              "        await google.colab.output.renderOutput(dataTable, element);\n",
              "        const docLink = document.createElement('div');\n",
              "        docLink.innerHTML = docLinkHtml;\n",
              "        element.appendChild(docLink);\n",
              "      }\n",
              "    </script>\n",
              "  </div>\n",
              "\n",
              "\n",
              "<div id=\"df-af06e852-527e-4380-accd-293489f0b0ae\">\n",
              "  <button class=\"colab-df-quickchart\" onclick=\"quickchart('df-af06e852-527e-4380-accd-293489f0b0ae')\"\n",
              "            title=\"Suggest charts\"\n",
              "            style=\"display:none;\">\n",
              "\n",
              "<svg xmlns=\"http://www.w3.org/2000/svg\" height=\"24px\"viewBox=\"0 0 24 24\"\n",
              "     width=\"24px\">\n",
              "    <g>\n",
              "        <path d=\"M19 3H5c-1.1 0-2 .9-2 2v14c0 1.1.9 2 2 2h14c1.1 0 2-.9 2-2V5c0-1.1-.9-2-2-2zM9 17H7v-7h2v7zm4 0h-2V7h2v10zm4 0h-2v-4h2v4z\"/>\n",
              "    </g>\n",
              "</svg>\n",
              "  </button>\n",
              "\n",
              "<style>\n",
              "  .colab-df-quickchart {\n",
              "      --bg-color: #E8F0FE;\n",
              "      --fill-color: #1967D2;\n",
              "      --hover-bg-color: #E2EBFA;\n",
              "      --hover-fill-color: #174EA6;\n",
              "      --disabled-fill-color: #AAA;\n",
              "      --disabled-bg-color: #DDD;\n",
              "  }\n",
              "\n",
              "  [theme=dark] .colab-df-quickchart {\n",
              "      --bg-color: #3B4455;\n",
              "      --fill-color: #D2E3FC;\n",
              "      --hover-bg-color: #434B5C;\n",
              "      --hover-fill-color: #FFFFFF;\n",
              "      --disabled-bg-color: #3B4455;\n",
              "      --disabled-fill-color: #666;\n",
              "  }\n",
              "\n",
              "  .colab-df-quickchart {\n",
              "    background-color: var(--bg-color);\n",
              "    border: none;\n",
              "    border-radius: 50%;\n",
              "    cursor: pointer;\n",
              "    display: none;\n",
              "    fill: var(--fill-color);\n",
              "    height: 32px;\n",
              "    padding: 0;\n",
              "    width: 32px;\n",
              "  }\n",
              "\n",
              "  .colab-df-quickchart:hover {\n",
              "    background-color: var(--hover-bg-color);\n",
              "    box-shadow: 0 1px 2px rgba(60, 64, 67, 0.3), 0 1px 3px 1px rgba(60, 64, 67, 0.15);\n",
              "    fill: var(--button-hover-fill-color);\n",
              "  }\n",
              "\n",
              "  .colab-df-quickchart-complete:disabled,\n",
              "  .colab-df-quickchart-complete:disabled:hover {\n",
              "    background-color: var(--disabled-bg-color);\n",
              "    fill: var(--disabled-fill-color);\n",
              "    box-shadow: none;\n",
              "  }\n",
              "\n",
              "  .colab-df-spinner {\n",
              "    border: 2px solid var(--fill-color);\n",
              "    border-color: transparent;\n",
              "    border-bottom-color: var(--fill-color);\n",
              "    animation:\n",
              "      spin 1s steps(1) infinite;\n",
              "  }\n",
              "\n",
              "  @keyframes spin {\n",
              "    0% {\n",
              "      border-color: transparent;\n",
              "      border-bottom-color: var(--fill-color);\n",
              "      border-left-color: var(--fill-color);\n",
              "    }\n",
              "    20% {\n",
              "      border-color: transparent;\n",
              "      border-left-color: var(--fill-color);\n",
              "      border-top-color: var(--fill-color);\n",
              "    }\n",
              "    30% {\n",
              "      border-color: transparent;\n",
              "      border-left-color: var(--fill-color);\n",
              "      border-top-color: var(--fill-color);\n",
              "      border-right-color: var(--fill-color);\n",
              "    }\n",
              "    40% {\n",
              "      border-color: transparent;\n",
              "      border-right-color: var(--fill-color);\n",
              "      border-top-color: var(--fill-color);\n",
              "    }\n",
              "    60% {\n",
              "      border-color: transparent;\n",
              "      border-right-color: var(--fill-color);\n",
              "    }\n",
              "    80% {\n",
              "      border-color: transparent;\n",
              "      border-right-color: var(--fill-color);\n",
              "      border-bottom-color: var(--fill-color);\n",
              "    }\n",
              "    90% {\n",
              "      border-color: transparent;\n",
              "      border-bottom-color: var(--fill-color);\n",
              "    }\n",
              "  }\n",
              "</style>\n",
              "\n",
              "  <script>\n",
              "    async function quickchart(key) {\n",
              "      const quickchartButtonEl =\n",
              "        document.querySelector('#' + key + ' button');\n",
              "      quickchartButtonEl.disabled = true;  // To prevent multiple clicks.\n",
              "      quickchartButtonEl.classList.add('colab-df-spinner');\n",
              "      try {\n",
              "        const charts = await google.colab.kernel.invokeFunction(\n",
              "            'suggestCharts', [key], {});\n",
              "      } catch (error) {\n",
              "        console.error('Error during call to suggestCharts:', error);\n",
              "      }\n",
              "      quickchartButtonEl.classList.remove('colab-df-spinner');\n",
              "      quickchartButtonEl.classList.add('colab-df-quickchart-complete');\n",
              "    }\n",
              "    (() => {\n",
              "      let quickchartButtonEl =\n",
              "        document.querySelector('#df-af06e852-527e-4380-accd-293489f0b0ae button');\n",
              "      quickchartButtonEl.style.display =\n",
              "        google.colab.kernel.accessAllowed ? 'block' : 'none';\n",
              "    })();\n",
              "  </script>\n",
              "</div>\n",
              "\n",
              "    </div>\n",
              "  </div>\n"
            ]
          },
          "metadata": {},
          "execution_count": 4
        }
      ],
      "source": [
        "fname = os.path.join(\"jena_climate_2009_2016.csv\")\n",
        "\n",
        "data = pd.read_csv(fname)\n",
        "data.head()"
      ]
    },
    {
      "cell_type": "code",
      "source": [
        "with open(fname) as f:\n",
        "    data = f.read()\n",
        "\n",
        "lines = data.split(\"\\n\")\n",
        "# print(lines[0])\n",
        "header = lines[0].split(\",\")\n",
        "lines = lines[1:]\n",
        "print(header)\n",
        "print(f\"Output of {len(lines)} lines of data\")"
      ],
      "metadata": {
        "colab": {
          "base_uri": "https://localhost:8080/"
        },
        "id": "oqh4VX8FXds6",
        "outputId": "457cc838-b6a8-45d9-a929-ade03b4605f3"
      },
      "execution_count": null,
      "outputs": [
        {
          "output_type": "stream",
          "name": "stdout",
          "text": [
            "['\"Date Time\"', '\"p (mbar)\"', '\"T (degC)\"', '\"Tpot (K)\"', '\"Tdew (degC)\"', '\"rh (%)\"', '\"VPmax (mbar)\"', '\"VPact (mbar)\"', '\"VPdef (mbar)\"', '\"sh (g/kg)\"', '\"H2OC (mmol/mol)\"', '\"rho (g/m**3)\"', '\"wv (m/s)\"', '\"max. wv (m/s)\"', '\"wd (deg)\"']\n",
            "Output of 420451 lines of data\n"
          ]
        }
      ]
    },
    {
      "cell_type": "markdown",
      "metadata": {
        "id": "VzkuXuOHWSIP"
      },
      "source": [
        "**Parsing the data**"
      ]
    },
    {
      "cell_type": "markdown",
      "source": [
        "Convert all 420,451 lines of data into NumPy arrays:\n",
        "* One array for the temperature (in degrees Celsius),\n",
        "* And another one for the rest of the data—the features we will use to predict future temperatures.\n",
        "\n",
        "Note that we discard the “Date Time” column"
      ],
      "metadata": {
        "id": "RUtv5r5ubKfi"
      }
    },
    {
      "cell_type": "code",
      "execution_count": null,
      "metadata": {
        "id": "M6Qyj-h1WSIQ"
      },
      "outputs": [],
      "source": [
        "import numpy as np\n",
        "# initialize an array with zeros and then populate it with actual data\n",
        "temperature = np.zeros((len(lines),))\n",
        "raw_data = np.zeros((len(lines), len(header) - 1))\n",
        "\n",
        "for i, line in enumerate(lines):\n",
        "    values = [float(x) for x in line.split(\",\")[1:]]\n",
        "    # store column 1 in the “temperature” array\n",
        "    temperature[i] = values[1]\n",
        "    # store all columns (including the temperature) in the “raw_data” array\n",
        "    raw_data[i, :] = values[:]"
      ]
    },
    {
      "cell_type": "markdown",
      "metadata": {
        "id": "ZnX9DZ4CWSIS"
      },
      "source": [
        "**Plotting the temperature timeseries**"
      ]
    },
    {
      "cell_type": "code",
      "execution_count": null,
      "metadata": {
        "colab": {
          "base_uri": "https://localhost:8080/",
          "height": 451
        },
        "id": "dxNfWkxJWSIT",
        "outputId": "97b470fa-1753-4d64-c200-c1e908f74c96"
      },
      "outputs": [
        {
          "output_type": "execute_result",
          "data": {
            "text/plain": [
              "[<matplotlib.lines.Line2D at 0x7f971ee0e320>]"
            ]
          },
          "metadata": {},
          "execution_count": 7
        },
        {
          "output_type": "display_data",
          "data": {
            "text/plain": [
              "<Figure size 640x480 with 1 Axes>"
            ],
            "image/png": "[encoded data removed]"
          },
          "metadata": {}
        }
      ],
      "source": [
        "from matplotlib import pyplot as plt\n",
        "plt.plot(range(len(temperature)), temperature)"
      ]
    },
    {
      "cell_type": "markdown",
      "metadata": {
        "id": "tVcJ06lcWSIU"
      },
      "source": [
        "**Plotting the first 10 days of the temperature timeseries**"
      ]
    },
    {
      "cell_type": "markdown",
      "source": [
        "Plot the first *10 days* of temperature data while data is recorded every *10 minutes*, for *24 hours* per day.\n",
        "\n",
        "24x(10x6)x10 = 1440"
      ],
      "metadata": {
        "id": "7AL6Ry2Fdi71"
      }
    },
    {
      "cell_type": "code",
      "execution_count": null,
      "metadata": {
        "colab": {
          "base_uri": "https://localhost:8080/",
          "height": 469
        },
        "id": "H9jLHi9SWSIV",
        "outputId": "63ed8b8e-5cc6-4fe6-86db-9087877660f1"
      },
      "outputs": [
        {
          "output_type": "execute_result",
          "data": {
            "text/plain": [
              "Text(0.5, 1.0, 'Temperature over the first 10 days of the dataset (ºC)')"
            ]
          },
          "metadata": {},
          "execution_count": 8
        },
        {
          "output_type": "display_data",
          "data": {
            "text/plain": [
              "<Figure size 640x480 with 1 Axes>"
            ],
            "image/png": "[encoded data removed]"
          },
          "metadata": {}
        }
      ],
      "source": [
        "plt.plot(range(1440), temperature[:1440])\n",
        "plt.title(\"Temperature over the first 10 days of the dataset (ºC)\")"
      ]
    },
    {
      "cell_type": "markdown",
      "metadata": {
        "id": "6RkpQ_VQWSIW"
      },
      "source": [
        "**Computing the number of samples we'll use for each data split**"
      ]
    },
    {
      "cell_type": "markdown",
      "source": [
        "Use 50% of the data for training, the following 25% for validation, and the last 25% for testing"
      ],
      "metadata": {
        "id": "oQwCnyJ7filW"
      }
    },
    {
      "cell_type": "code",
      "execution_count": null,
      "metadata": {
        "colab": {
          "base_uri": "https://localhost:8080/"
        },
        "id": "uk2S4wYaWSIW",
        "outputId": "709e2131-7844-446e-bb47-81a70efdea84"
      },
      "outputs": [
        {
          "output_type": "stream",
          "name": "stdout",
          "text": [
            "num_train_samples: 210225\n",
            "num_val_samples: 105112\n",
            "num_test_samples: 105114\n"
          ]
        }
      ],
      "source": [
        "num_train_samples = int(0.5 * len(raw_data))\n",
        "num_val_samples = int(0.25 * len(raw_data))\n",
        "num_test_samples = len(raw_data) - num_train_samples - num_val_samples\n",
        "print(\"num_train_samples:\", num_train_samples)\n",
        "print(\"num_val_samples:\", num_val_samples)\n",
        "print(\"num_test_samples:\", num_test_samples)"
      ]
    },
    {
      "cell_type": "markdown",
      "metadata": {
        "id": "dqPRb_f7WSIX"
      },
      "source": [
        "### Preparing the data"
      ]
    },
    {
      "cell_type": "markdown",
      "source": [
        "Preprocess the data to a format a neural network can ingest.  \n",
        "\n",
        "* Since each timeseries in the data is on a different scale (for example, atmospheric pressure, measured in mbar, is around 1,000, while H2OC, measured in millimoles per mole, is around 3), we’ll normalize each timeseries independently so that they all take small values on a similar scale.\n",
        "\n",
        "* Use the first 210,225 timesteps as training data, so we’ll compute the mean and standard deviation only on this fraction of the data"
      ],
      "metadata": {
        "id": "Ka3xbOsjg9I3"
      }
    },
    {
      "cell_type": "markdown",
      "metadata": {
        "id": "vzjweIdzWSIY"
      },
      "source": [
        "**Normalizing the data**"
      ]
    },
    {
      "cell_type": "code",
      "source": [
        "raw_data"
      ],
      "metadata": {
        "colab": {
          "base_uri": "https://localhost:8080/"
        },
        "id": "4xvHFE2thskL",
        "outputId": "28bd2e86-0385-4198-df8f-75b42cbf1dc1"
      },
      "execution_count": null,
      "outputs": [
        {
          "output_type": "execute_result",
          "data": {
            "text/plain": [
              "array([[ 9.9652e+02, -8.0200e+00,  2.6540e+02, ...,  1.0300e+00,\n",
              "         1.7500e+00,  1.5230e+02],\n",
              "       [ 9.9657e+02, -8.4100e+00,  2.6501e+02, ...,  7.2000e-01,\n",
              "         1.5000e+00,  1.3610e+02],\n",
              "       [ 9.9653e+02, -8.5100e+00,  2.6491e+02, ...,  1.9000e-01,\n",
              "         6.3000e-01,  1.7160e+02],\n",
              "       ...,\n",
              "       [ 9.9982e+02, -3.1600e+00,  2.7001e+02, ...,  1.0800e+00,\n",
              "         2.0000e+00,  2.1520e+02],\n",
              "       [ 9.9981e+02, -4.2300e+00,  2.6894e+02, ...,  1.4900e+00,\n",
              "         2.1600e+00,  2.2580e+02],\n",
              "       [ 9.9982e+02, -4.8200e+00,  2.6836e+02, ...,  1.2300e+00,\n",
              "         1.9600e+00,  1.8490e+02]])"
            ]
          },
          "metadata": {},
          "execution_count": 10
        }
      ]
    },
    {
      "cell_type": "code",
      "source": [
        "raw_data[:num_train_samples]"
      ],
      "metadata": {
        "colab": {
          "base_uri": "https://localhost:8080/"
        },
        "id": "MwGjkx9mh8QQ",
        "outputId": "81406a83-b1dd-4951-9bf2-5a09e0465616"
      },
      "execution_count": null,
      "outputs": [
        {
          "output_type": "execute_result",
          "data": {
            "text/plain": [
              "array([[ 9.9652e+02, -8.0200e+00,  2.6540e+02, ...,  1.0300e+00,\n",
              "         1.7500e+00,  1.5230e+02],\n",
              "       [ 9.9657e+02, -8.4100e+00,  2.6501e+02, ...,  7.2000e-01,\n",
              "         1.5000e+00,  1.3610e+02],\n",
              "       [ 9.9653e+02, -8.5100e+00,  2.6491e+02, ...,  1.9000e-01,\n",
              "         6.3000e-01,  1.7160e+02],\n",
              "       ...,\n",
              "       [ 9.8728e+02,  7.5600e+00,  2.8175e+02, ...,  4.7500e+00,\n",
              "         6.6500e+00,  1.9860e+02],\n",
              "       [ 9.8736e+02,  7.4800e+00,  2.8166e+02, ...,  4.4600e+00,\n",
              "         6.0100e+00,  1.8650e+02],\n",
              "       [ 9.8733e+02,  7.3000e+00,  2.8148e+02, ...,  4.0000e+00,\n",
              "         6.0500e+00,  1.7810e+02]])"
            ]
          },
          "metadata": {},
          "execution_count": 11
        }
      ]
    },
    {
      "cell_type": "code",
      "execution_count": null,
      "metadata": {
        "id": "FLnw3HN4WSIY"
      },
      "outputs": [],
      "source": [
        "mean = raw_data[:num_train_samples].mean(axis=0)\n",
        "raw_data -= mean\n",
        "std = raw_data[:num_train_samples].std(axis=0)\n",
        "raw_data /= std"
      ]
    },
    {
      "cell_type": "markdown",
      "source": [
        "**Understanding timeseries_dataset_from_array()**\n",
        "\n",
        "For example, if you use data = [0 1 2 3 4 5 6]\n",
        "\n",
        "and sequence_length=3,\n",
        "\n",
        "then timeseries_dataset_from_array() will generate the following samples: [0 1 2], [1 2 3], [2 3 4], [3 4 5], [4 5 6]."
      ],
      "metadata": {
        "id": "MXAibi8JlIcI"
      }
    },
    {
      "cell_type": "code",
      "execution_count": null,
      "metadata": {
        "colab": {
          "base_uri": "https://localhost:8080/"
        },
        "id": "Pv9_7kzCWSIZ",
        "outputId": "0a5e56fa-40d7-4a9f-93e0-aa4fc8d86a0f"
      },
      "outputs": [
        {
          "output_type": "stream",
          "name": "stdout",
          "text": [
            "[0, 1, 2] 3\n",
            "[1, 2, 3] 4\n",
            "[2, 3, 4] 5\n",
            "[3, 4, 5] 6\n",
            "[4, 5, 6] 7\n"
          ]
        }
      ],
      "source": [
        "import numpy as np\n",
        "from tensorflow import keras\n",
        "# Generate an array of sorted integers from 0 to 9\n",
        "int_sequence = np.arange(10)\n",
        "\n",
        "dummy_dataset = keras.utils.timeseries_dataset_from_array(\n",
        "    # The sequences we generate will be sampled from int_sequence\n",
        "    data=int_sequence[:-3],\n",
        "    # The target for the sequence that starts at data[N] will be data[N + 3].\n",
        "    targets=int_sequence[3:],\n",
        "    # The sequences will be 3 steps long.\n",
        "    sequence_length=3,\n",
        "    # The sequences will be batched in batches of size 2\n",
        "    batch_size=2,\n",
        ")\n",
        "\n",
        "for inputs, targets in dummy_dataset:\n",
        "    for i in range(inputs.shape[0]):\n",
        "        print([int(x) for x in inputs[i]], int(targets[i]))"
      ]
    },
    {
      "cell_type": "markdown",
      "metadata": {
        "id": "nUnFTzYpWSIb"
      },
      "source": [
        "**Instantiating datasets for training, validation, and testing**"
      ]
    },
    {
      "cell_type": "markdown",
      "source": [
        "Use timeseries_dataset_from_array() to instantiate three datasets: one for training, one for validation, and one for testing.\n",
        "\n",
        "We’ll use the following parameter values:\n",
        "* sampling_rate = 6—Observations will be sampled at one data point per hour: we will only keep one data point out of 6.\n",
        "* sequence_length = 120—Observations will go back 5 days (120 hours).\n",
        "* delay = sampling_rate * (sequence_length + 24 - 1)—The target for a sequence will be the temperature 24 hours after the end of the sequence.\n",
        "\n",
        "When making the training dataset, we’ll pass start_index = 0 and end_index = num_train_samples to only use the first 50% of the data.\n",
        "\n",
        "For the validation dataset, we’ll pass start_index = num_train_samples and end_index = num_train_samples + num_val_samples to use the next 25% of the data.\n",
        "\n",
        "Finally, for the test dataset, we’ll pass start_index = num_train_samples + num_val_samples to use the remaining samples"
      ],
      "metadata": {
        "id": "qe_JZiirmYWi"
      }
    },
    {
      "cell_type": "code",
      "execution_count": null,
      "metadata": {
        "id": "fU_Jr4_NWSIb"
      },
      "outputs": [],
      "source": [
        "sampling_rate = 6\n",
        "sequence_length = 120\n",
        "delay = sampling_rate * (sequence_length + 24 - 1)\n",
        "batch_size = 256\n",
        "\n",
        "train_dataset = keras.utils.timeseries_dataset_from_array(\n",
        "    raw_data[:-delay],\n",
        "    targets=temperature[delay:],\n",
        "    sampling_rate=sampling_rate,\n",
        "    sequence_length=sequence_length,\n",
        "    shuffle=True,\n",
        "    batch_size=batch_size,\n",
        "    start_index=0,\n",
        "    end_index=num_train_samples)\n",
        "\n",
        "val_dataset = keras.utils.timeseries_dataset_from_array(\n",
        "    raw_data[:-delay],\n",
        "    targets=temperature[delay:],\n",
        "    sampling_rate=sampling_rate,\n",
        "    sequence_length=sequence_length,\n",
        "    shuffle=True,\n",
        "    batch_size=batch_size,\n",
        "    start_index=num_train_samples,\n",
        "    end_index=num_train_samples + num_val_samples)\n",
        "\n",
        "test_dataset = keras.utils.timeseries_dataset_from_array(\n",
        "    raw_data[:-delay],\n",
        "    targets=temperature[delay:],\n",
        "    sampling_rate=sampling_rate,\n",
        "    sequence_length=sequence_length,\n",
        "    shuffle=True,\n",
        "    batch_size=batch_size,\n",
        "    start_index=num_train_samples + num_val_samples)"
      ]
    },
    {
      "cell_type": "markdown",
      "metadata": {
        "id": "GwUKUkqTWSIc"
      },
      "source": [
        "**Inspecting the output of one of our datasets**"
      ]
    },
    {
      "cell_type": "markdown",
      "source": [
        "Each dataset yields a tuple (samples, targets), where samples is a batch of 256 samples, each containing 120 consecutive hours of input data, and targets is the corresponding array of 256 target temperatures"
      ],
      "metadata": {
        "id": "zoPF6AWcoKvd"
      }
    },
    {
      "cell_type": "code",
      "execution_count": null,
      "metadata": {
        "colab": {
          "base_uri": "https://localhost:8080/"
        },
        "id": "QTT-lFLGWSId",
        "outputId": "14d6ccbb-7c32-48d7-8fb5-693687f554b0"
      },
      "outputs": [
        {
          "output_type": "stream",
          "name": "stdout",
          "text": [
            "samples shape: (256, 120, 14)\n",
            "targets shape: (256,)\n"
          ]
        }
      ],
      "source": [
        "for samples, targets in train_dataset:\n",
        "    print(\"samples shape:\", samples.shape)\n",
        "    print(\"targets shape:\", targets.shape)\n",
        "    break"
      ]
    },
    {
      "cell_type": "markdown",
      "metadata": {
        "id": "nEXaj931WSId"
      },
      "source": [
        "### A common-sense, non-machine-learning baseline"
      ]
    },
    {
      "cell_type": "markdown",
      "metadata": {
        "id": "lMNGekRhWSIe"
      },
      "source": [
        "**Computing the common-sense baseline MAE**"
      ]
    },
    {
      "cell_type": "code",
      "execution_count": null,
      "metadata": {
        "colab": {
          "base_uri": "https://localhost:8080/"
        },
        "id": "7Cst88BrWSIe",
        "outputId": "7228f774-f2d3-4cfc-c84e-9c7d164eb431"
      },
      "outputs": [
        {
          "output_type": "stream",
          "name": "stdout",
          "text": [
            "Validation MAE: 2.44\n",
            "Test MAE: 2.62\n"
          ]
        }
      ],
      "source": [
        "def evaluate_naive_method(dataset):\n",
        "    total_abs_err = 0.\n",
        "    samples_seen = 0\n",
        "    for samples, targets in dataset:\n",
        "        preds = samples[:, -1, 1] * std[1] + mean[1]\n",
        "        total_abs_err += np.sum(np.abs(preds - targets))\n",
        "        samples_seen += samples.shape[0]\n",
        "    return total_abs_err / samples_seen\n",
        "\n",
        "print(f\"Validation MAE: {evaluate_naive_method(val_dataset):.2f}\")\n",
        "print(f\"Test MAE: {evaluate_naive_method(test_dataset):.2f}\")"
      ]
    },
    {
      "cell_type": "markdown",
      "metadata": {
        "id": "YJ8RZ5JWWSIf"
      },
      "source": [
        "### Let's try a basic machine-learning model"
      ]
    },
    {
      "cell_type": "markdown",
      "metadata": {
        "id": "pVBf2yg1WSIg"
      },
      "source": [
        "**Training and evaluating a densely connected model**"
      ]
    },
    {
      "cell_type": "markdown",
      "source": [
        "Before looking into complicated and computationally expensive models such as RNNs. This is the best way to make sure any further complexity you throw at the problem is legitimate and delivers real benefits"
      ],
      "metadata": {
        "id": "oz_ms6I823Gs"
      }
    },
    {
      "cell_type": "markdown",
      "source": [
        "The code below shows a fully connected model that starts by:\n",
        "* Flattening the data and then runs it through two Dense layers. Note the lack of an activation function on the last Dense layer, which is typical for a regression problem.\n",
        "* Using mean squared error (MSE) as the loss, rather than MAE, because unlike MAE, it’s smooth around zero, which is a useful property for gradient descent.\n",
        "* Monitor MAE by adding it as a metric in compile()."
      ],
      "metadata": {
        "id": "vh5Zo8p93rTn"
      }
    },
    {
      "cell_type": "code",
      "execution_count": null,
      "metadata": {
        "colab": {
          "base_uri": "https://localhost:8080/"
        },
        "id": "frMwk6dJWSIg",
        "outputId": "e368f29f-dac1-4694-8e79-2fdcbf493c19"
      },
      "outputs": [
        {
          "output_type": "stream",
          "name": "stdout",
          "text": [
            "Epoch 1/10\n",
            "819/819 [==============================] - 52s 62ms/step - loss: 12.6845 - mae: 2.7573 - val_loss: 15.4916 - val_mae: 3.1506\n",
            "Epoch 2/10\n",
            "819/819 [==============================] - 50s 61ms/step - loss: 9.0995 - mae: 2.3728 - val_loss: 11.3628 - val_mae: 2.6811\n",
            "Epoch 3/10\n",
            "819/819 [==============================] - 43s 53ms/step - loss: 8.2559 - mae: 2.2631 - val_loss: 10.8769 - val_mae: 2.6096\n",
            "Epoch 4/10\n",
            "819/819 [==============================] - 45s 55ms/step - loss: 7.7874 - mae: 2.2004 - val_loss: 13.1103 - val_mae: 2.8682\n",
            "Epoch 5/10\n",
            "819/819 [==============================] - 50s 61ms/step - loss: 7.4769 - mae: 2.1567 - val_loss: 10.4357 - val_mae: 2.5489\n",
            "Epoch 6/10\n",
            "819/819 [==============================] - 51s 62ms/step - loss: 7.2407 - mae: 2.1244 - val_loss: 11.6688 - val_mae: 2.7014\n",
            "Epoch 7/10\n",
            "819/819 [==============================] - 52s 63ms/step - loss: 7.0785 - mae: 2.1016 - val_loss: 13.0550 - val_mae: 2.8710\n",
            "Epoch 8/10\n",
            "819/819 [==============================] - 43s 53ms/step - loss: 6.9609 - mae: 2.0826 - val_loss: 10.6242 - val_mae: 2.5667\n",
            "Epoch 9/10\n",
            "819/819 [==============================] - 44s 54ms/step - loss: 6.8006 - mae: 2.0600 - val_loss: 10.8421 - val_mae: 2.6042\n",
            "Epoch 10/10\n",
            "819/819 [==============================] - 50s 61ms/step - loss: 6.7039 - mae: 2.0438 - val_loss: 11.1196 - val_mae: 2.6304\n",
            "405/405 [==============================] - 15s 35ms/step - loss: 11.4122 - mae: 2.6569\n",
            "Test MAE: 2.66\n"
          ]
        }
      ],
      "source": [
        "from tensorflow import keras\n",
        "from tensorflow.keras import layers\n",
        "\n",
        "inputs = keras.Input(shape=(sequence_length, raw_data.shape[-1]))\n",
        "x = layers.Flatten()(inputs)\n",
        "x = layers.Dense(16, activation=\"relu\")(x)\n",
        "outputs = layers.Dense(1)(x)\n",
        "model = keras.Model(inputs, outputs)\n",
        "\n",
        "callbacks = [\n",
        "    # save the best performaing model\n",
        "    keras.callbacks.ModelCheckpoint(\"jena_dense.keras\",\n",
        "                                    save_best_only=True)\n",
        "]\n",
        "model.compile(optimizer=\"rmsprop\", loss=\"mse\", metrics=[\"mae\"])\n",
        "history = model.fit(train_dataset,\n",
        "                    epochs=10,\n",
        "                    validation_data=val_dataset,\n",
        "                    callbacks=callbacks)\n",
        "\n",
        "# reload the best model and evaluate it on the test data\n",
        "model = keras.models.load_model(\"jena_dense.keras\")\n",
        "print(f\"Test MAE: {model.evaluate(test_dataset)[1]:.2f}\")"
      ]
    },
    {
      "cell_type": "markdown",
      "metadata": {
        "id": "lfSRorHhWSIh"
      },
      "source": [
        "**Plotting results**"
      ]
    },
    {
      "cell_type": "code",
      "execution_count": null,
      "metadata": {
        "colab": {
          "base_uri": "https://localhost:8080/",
          "height": 452
        },
        "id": "YkhCNe2pWSIh",
        "outputId": "3f2e72e2-600a-4103-9ace-fe85e3a512c8"
      },
      "outputs": [
        {
          "output_type": "display_data",
          "data": {
            "text/plain": [
              "<Figure size 640x480 with 1 Axes>"
            ],
            "image/png": "[encoded data removed]"
          },
          "metadata": {}
        }
      ],
      "source": [
        "# display the loss curves for validation and training\n",
        "import matplotlib.pyplot as plt\n",
        "loss = history.history[\"mae\"]\n",
        "val_loss = history.history[\"val_mae\"]\n",
        "epochs = range(1, len(loss) + 1)\n",
        "plt.figure()\n",
        "plt.plot(epochs, loss, \"bo\", label=\"Training MAE\")\n",
        "plt.plot(epochs, val_loss, \"b\", label=\"Validation MAE\")\n",
        "plt.title(\"Training and validation MAE\")\n",
        "plt.legend()\n",
        "plt.show()"
      ]
    },
    {
      "cell_type": "markdown",
      "source": [
        "Some of the validation losses are close to the no-learning baseline, but not reliably. This goes to show the merit of having this baseline in the first place: it turns out to be not easy to outperform."
      ],
      "metadata": {
        "id": "VtX8sI8s6itJ"
      }
    },
    {
      "cell_type": "markdown",
      "metadata": {
        "id": "sYEnUE-3WSIi"
      },
      "source": [
        "### Let's try a 1D convolutional model"
      ]
    },
    {
      "cell_type": "markdown",
      "source": [
        "Conv1D is used for processing one-dimensional sequential data, such as text or time series"
      ],
      "metadata": {
        "id": "9zO8xafx8-Bo"
      }
    },
    {
      "cell_type": "code",
      "execution_count": null,
      "metadata": {
        "colab": {
          "base_uri": "https://localhost:8080/"
        },
        "id": "XhDtBvQcWSIk",
        "outputId": "70b633c9-7afc-4eaf-8271-b36a18a18367"
      },
      "outputs": [
        {
          "output_type": "stream",
          "name": "stdout",
          "text": [
            "Epoch 1/10\n",
            "819/819 [==============================] - 79s 95ms/step - loss: 21.8450 - mae: 3.6569 - val_loss: 18.6099 - val_mae: 3.4435\n",
            "Epoch 2/10\n",
            "819/819 [==============================] - 89s 108ms/step - loss: 15.3590 - mae: 3.1145 - val_loss: 16.2811 - val_mae: 3.1828\n",
            "Epoch 3/10\n",
            "819/819 [==============================] - 80s 97ms/step - loss: 14.0942 - mae: 2.9778 - val_loss: 13.2547 - val_mae: 2.8810\n",
            "Epoch 4/10\n",
            "819/819 [==============================] - 77s 94ms/step - loss: 13.3387 - mae: 2.8910 - val_loss: 13.5262 - val_mae: 2.9156\n",
            "Epoch 5/10\n",
            "819/819 [==============================] - 82s 100ms/step - loss: 12.7532 - mae: 2.8271 - val_loss: 13.6841 - val_mae: 2.9320\n",
            "Epoch 6/10\n",
            "819/819 [==============================] - 84s 103ms/step - loss: 12.3449 - mae: 2.7797 - val_loss: 16.1678 - val_mae: 3.1846\n",
            "Epoch 7/10\n",
            "819/819 [==============================] - 78s 95ms/step - loss: 11.9966 - mae: 2.7383 - val_loss: 15.0611 - val_mae: 3.0677\n",
            "Epoch 8/10\n",
            "819/819 [==============================] - 83s 100ms/step - loss: 11.6985 - mae: 2.7065 - val_loss: 12.9724 - val_mae: 2.8470\n",
            "Epoch 9/10\n",
            "819/819 [==============================] - 84s 103ms/step - loss: 11.3751 - mae: 2.6699 - val_loss: 16.8454 - val_mae: 3.2774\n",
            "Epoch 10/10\n",
            "819/819 [==============================] - 78s 94ms/step - loss: 11.1195 - mae: 2.6396 - val_loss: 15.6627 - val_mae: 3.1475\n",
            "405/405 [==============================] - 17s 42ms/step - loss: 14.6551 - mae: 3.0385\n",
            "Test MAE: 3.04\n"
          ]
        }
      ],
      "source": [
        "inputs = keras.Input(shape=(sequence_length, raw_data.shape[-1]))\n",
        "x = layers.Conv1D(8, 24, activation=\"relu\")(inputs)\n",
        "x = layers.MaxPooling1D(2)(x)\n",
        "x = layers.Conv1D(8, 12, activation=\"relu\")(x)\n",
        "x = layers.MaxPooling1D(2)(x)\n",
        "x = layers.Conv1D(8, 6, activation=\"relu\")(x)\n",
        "x = layers.GlobalAveragePooling1D()(x)\n",
        "outputs = layers.Dense(1)(x)\n",
        "model = keras.Model(inputs, outputs)\n",
        "\n",
        "callbacks = [\n",
        "    keras.callbacks.ModelCheckpoint(\"jena_conv.keras\",\n",
        "                                    save_best_only=True)\n",
        "]\n",
        "model.compile(optimizer=\"rmsprop\", loss=\"mse\", metrics=[\"mae\"])\n",
        "history = model.fit(train_dataset,\n",
        "                    epochs=10,\n",
        "                    validation_data=val_dataset,\n",
        "                    callbacks=callbacks)\n",
        "\n",
        "model = keras.models.load_model(\"jena_conv.keras\")\n",
        "print(f\"Test MAE: {model.evaluate(test_dataset)[1]:.2f}\")"
      ]
    },
    {
      "cell_type": "markdown",
      "source": [
        "**Plotting results**"
      ],
      "metadata": {
        "id": "SbkOlo_Z9ixX"
      }
    },
    {
      "cell_type": "code",
      "source": [
        "# Training and validation MAE on the Jena temperatureforecasting task with a 1D convnet\n",
        "import matplotlib.pyplot as plt\n",
        "loss = history.history[\"mae\"]\n",
        "val_loss = history.history[\"val_mae\"]\n",
        "epochs = range(1, len(loss) + 1)\n",
        "plt.figure()\n",
        "plt.plot(epochs, loss, \"bo\", label=\"Training MAE\")\n",
        "plt.plot(epochs, val_loss, \"b\", label=\"Validation MAE\")\n",
        "plt.title(\"Training and validation MAE\")\n",
        "plt.legend()\n",
        "plt.show()"
      ],
      "metadata": {
        "colab": {
          "base_uri": "https://localhost:8080/",
          "height": 452
        },
        "id": "HCr78qhu9dTy",
        "outputId": "c5ca10e8-2b10-47e9-88c8-aa0abff0c3bc"
      },
      "execution_count": null,
      "outputs": [
        {
          "output_type": "display_data",
          "data": {
            "text/plain": [
              "<Figure size 640x480 with 1 Axes>"
            ],
            "image/png": "[encoded data removed]"
          },
          "metadata": {}
        }
      ]
    },
    {
      "cell_type": "markdown",
      "metadata": {
        "id": "Jp9TwweuWSIk"
      },
      "source": [
        "### A first recurrent baseline"
      ]
    },
    {
      "cell_type": "markdown",
      "metadata": {
        "id": "YbZ2P3b3WSIl"
      },
      "source": [
        "**A simple LSTM-based model**"
      ]
    },
    {
      "cell_type": "markdown",
      "source": [
        "Try LSTM for a better result"
      ],
      "metadata": {
        "id": "P3rkN4OuBWxC"
      }
    },
    {
      "cell_type": "code",
      "execution_count": null,
      "metadata": {
        "colab": {
          "base_uri": "https://localhost:8080/"
        },
        "id": "sxaOR_bdWSIm",
        "outputId": "b5c0eb80-a42f-4c37-f3b9-38033ed46432"
      },
      "outputs": [
        {
          "output_type": "stream",
          "name": "stdout",
          "text": [
            "Epoch 1/10\n",
            "819/819 [==============================] - 102s 122ms/step - loss: 40.5528 - mae: 4.6212 - val_loss: 12.1611 - val_mae: 2.6632\n",
            "Epoch 2/10\n",
            "819/819 [==============================] - 100s 122ms/step - loss: 10.6600 - mae: 2.5408 - val_loss: 9.6334 - val_mae: 2.4100\n",
            "Epoch 3/10\n",
            "819/819 [==============================] - 101s 123ms/step - loss: 9.6788 - mae: 2.4268 - val_loss: 9.5367 - val_mae: 2.3962\n",
            "Epoch 4/10\n",
            "819/819 [==============================] - 117s 143ms/step - loss: 9.1863 - mae: 2.3662 - val_loss: 9.8854 - val_mae: 2.4490\n",
            "Epoch 5/10\n",
            "819/819 [==============================] - 117s 142ms/step - loss: 8.8003 - mae: 2.3136 - val_loss: 9.8940 - val_mae: 2.4547\n",
            "Epoch 6/10\n",
            "819/819 [==============================] - 99s 120ms/step - loss: 8.5085 - mae: 2.2737 - val_loss: 10.1035 - val_mae: 2.4728\n",
            "Epoch 7/10\n",
            "819/819 [==============================] - 102s 124ms/step - loss: 8.2424 - mae: 2.2349 - val_loss: 10.1439 - val_mae: 2.4684\n",
            "Epoch 8/10\n",
            "819/819 [==============================] - 118s 144ms/step - loss: 8.0057 - mae: 2.2007 - val_loss: 10.0328 - val_mae: 2.4584\n",
            "Epoch 9/10\n",
            "819/819 [==============================] - 118s 143ms/step - loss: 7.8688 - mae: 2.1794 - val_loss: 10.2202 - val_mae: 2.4755\n",
            "Epoch 10/10\n",
            "819/819 [==============================] - 98s 119ms/step - loss: 7.6982 - mae: 2.1550 - val_loss: 10.1238 - val_mae: 2.4589\n",
            "405/405 [==============================] - 25s 58ms/step - loss: 10.8761 - mae: 2.6129\n",
            "Test MAE: 2.61\n"
          ]
        }
      ],
      "source": [
        "inputs = keras.Input(shape=(sequence_length, raw_data.shape[-1]))\n",
        "x = layers.LSTM(16)(inputs)\n",
        "outputs = layers.Dense(1)(x)\n",
        "model = keras.Model(inputs, outputs)\n",
        "\n",
        "callbacks = [\n",
        "    keras.callbacks.ModelCheckpoint(\"jena_lstm.keras\",\n",
        "                                    save_best_only=True)\n",
        "]\n",
        "model.compile(optimizer=\"rmsprop\", loss=\"mse\", metrics=[\"mae\"])\n",
        "history = model.fit(train_dataset,\n",
        "                    epochs=10,\n",
        "                    validation_data=val_dataset,\n",
        "                    callbacks=callbacks)\n",
        "\n",
        "model = keras.models.load_model(\"jena_lstm.keras\")\n",
        "print(f\"Test MAE: {model.evaluate(test_dataset)[1]:.2f}\")"
      ]
    },
    {
      "cell_type": "markdown",
      "source": [
        "**Plotting result**"
      ],
      "metadata": {
        "id": "bVQS6X9qBjb5"
      }
    },
    {
      "cell_type": "code",
      "source": [
        "import matplotlib.pyplot as plt\n",
        "loss = history.history[\"mae\"]\n",
        "val_loss = history.history[\"val_mae\"]\n",
        "epochs = range(1, len(loss) + 1)\n",
        "plt.figure()\n",
        "plt.plot(epochs, loss, \"bo\", label=\"Training MAE\")\n",
        "plt.plot(epochs, val_loss, \"b\", label=\"Validation MAE\")\n",
        "plt.title(\"Training and validation MAE\")\n",
        "plt.legend()\n",
        "plt.show()"
      ],
      "metadata": {
        "colab": {
          "base_uri": "https://localhost:8080/",
          "height": 452
        },
        "id": "KoaexENqBi28",
        "outputId": "b39e9fb6-a464-4eab-a628-0f1a32821f01"
      },
      "execution_count": null,
      "outputs": [
        {
          "output_type": "display_data",
          "data": {
            "text/plain": [
              "<Figure size 640x480 with 1 Axes>"
            ],
            "image/png": "[encoded data removed]"
          },
          "metadata": {}
        }
      ]
    },
    {
      "cell_type": "markdown",
      "metadata": {
        "id": "O9imeTf4WSIm"
      },
      "source": [
        "## Understanding recurrent neural networks"
      ]
    },
    {
      "cell_type": "markdown",
      "metadata": {
        "id": "sX5ArvQ4WSIn"
      },
      "source": [
        "**NumPy implementation of a simple RNN**"
      ]
    },
    {
      "cell_type": "code",
      "source": [
        "# More-detailed pseudocode for the RNN\n",
        "# state_t = 0\n",
        "# for input_t in input_sequence:\n",
        "# output_t = activation(dot(W, input_t) + dot(U, state_t) + b)\n",
        "# state_t = output_t"
      ],
      "metadata": {
        "id": "NiuKORlWqW5-"
      },
      "execution_count": null,
      "outputs": []
    },
    {
      "cell_type": "code",
      "execution_count": null,
      "metadata": {
        "id": "EFEmYn-RWSIn"
      },
      "outputs": [],
      "source": [
        "import numpy as np\n",
        "\n",
        "# number of timesteps in the input sequence\n",
        "timesteps = 100\n",
        "# dimensionality of the input and output feature space\n",
        "input_features = 32\n",
        "output_features = 64\n",
        "\n",
        "# input data: random noise for the sake of the example\n",
        "inputs = np.random.random((timesteps, input_features))\n",
        "# initial state: an all-zero vector (stores information about the previous inputs processed by the network)\n",
        "state_t = np.zeros((output_features,))\n",
        "# create random weight matrices\n",
        "W = np.random.random((output_features, input_features))\n",
        "U = np.random.random((output_features, output_features))\n",
        "b = np.random.random((output_features,))\n",
        "\n",
        "successive_outputs = []\n",
        "# input_t is a vecor of shape (input_features,)\n",
        "for input_t in inputs:\n",
        "    # combines the input with the current state (the previous output) to obtain the current output\n",
        "    # use tanh() to add non-linearity (could use any other activation function)\n",
        "    output_t = np.tanh(np.dot(W, input_t) + np.dot(U, state_t) + b)\n",
        "    # stores this output in alist\n",
        "    successive_outputs.append(output_t)\n",
        "    # updates the state of the network for the next timestep\n",
        "    state_t = output_t\n",
        "# the final output is a rank-2 tensor of shape (timesteps, output_feature)\n",
        "final_output_sequence = np.stack(successive_outputs, axis=0)"
      ]
    },
    {
      "cell_type": "markdown",
      "metadata": {
        "id": "DulOE4uvWSIp"
      },
      "source": [
        "### A recurrent layer in Keras"
      ]
    },
    {
      "cell_type": "markdown",
      "metadata": {
        "id": "_GqXa_IdWSIp"
      },
      "source": [
        "**An RNN layer that can process sequences of any length**"
      ]
    },
    {
      "cell_type": "code",
      "source": [
        "from tensorflow import keras\n",
        "from tensorflow.keras import layers"
      ],
      "metadata": {
        "id": "dwK0DVWCuijw"
      },
      "execution_count": null,
      "outputs": []
    },
    {
      "cell_type": "code",
      "execution_count": null,
      "metadata": {
        "colab": {
          "base_uri": "https://localhost:8080/"
        },
        "id": "0lKh2n2sWSIq",
        "outputId": "e4abc3de-f3ef-45b1-f75e-a00a43ca589b"
      },
      "outputs": [
        {
          "output_type": "stream",
          "name": "stdout",
          "text": [
            "(None, 16)\n"
          ]
        }
      ],
      "source": [
        "num_features = 14\n",
        "# set the timesteps entry to None\n",
        "inputs = keras.Input(shape=(None, num_features))\n",
        "outputs = layers.SimpleRNN(16)(inputs)\n",
        "print(outputs.shape)"
      ]
    },
    {
      "cell_type": "markdown",
      "metadata": {
        "id": "RIOpqQ1uWSIr"
      },
      "source": [
        "**An RNN layer that returns only its last output step**"
      ]
    },
    {
      "cell_type": "code",
      "execution_count": null,
      "metadata": {
        "colab": {
          "base_uri": "https://localhost:8080/"
        },
        "id": "INMEAcFhWSIr",
        "outputId": "0cc93f9a-00b1-4b6c-f9f5-40814aa81cdf"
      },
      "outputs": [
        {
          "output_type": "stream",
          "name": "stdout",
          "text": [
            "(None, 16)\n"
          ]
        }
      ],
      "source": [
        "num_features = 14\n",
        "steps = 120\n",
        "inputs = keras.Input(shape=(steps, num_features))\n",
        "# return_sequences=False is the default\n",
        "outputs = layers.SimpleRNN(16, return_sequences=False)(inputs)\n",
        "print(outputs.shape)"
      ]
    },
    {
      "cell_type": "markdown",
      "metadata": {
        "id": "8HmLRATeWSIs"
      },
      "source": [
        "**An RNN layer that returns its full output sequence**"
      ]
    },
    {
      "cell_type": "code",
      "execution_count": null,
      "metadata": {
        "colab": {
          "base_uri": "https://localhost:8080/"
        },
        "id": "YbvBBpX6WSIs",
        "outputId": "c8f2933b-6f41-46b3-c2ab-2d7f6e95e1bb"
      },
      "outputs": [
        {
          "output_type": "stream",
          "name": "stdout",
          "text": [
            "(None, 120, 16)\n"
          ]
        }
      ],
      "source": [
        "num_features = 14\n",
        "steps = 120\n",
        "inputs = keras.Input(shape=(steps, num_features))\n",
        "outputs = layers.SimpleRNN(16, return_sequences=True)(inputs)\n",
        "print(outputs.shape)"
      ]
    },
    {
      "cell_type": "markdown",
      "metadata": {
        "id": "3Vm5Zbx5WSIt"
      },
      "source": [
        "**Stacking RNN layers**"
      ]
    },
    {
      "cell_type": "code",
      "execution_count": null,
      "metadata": {
        "colab": {
          "base_uri": "https://localhost:8080/"
        },
        "id": "gKPZ9aJ-WSIt",
        "outputId": "e13db24b-a4a8-4455-99b1-9d48e64d4769"
      },
      "outputs": [
        {
          "output_type": "stream",
          "name": "stdout",
          "text": [
            "(None, 16)\n"
          ]
        }
      ],
      "source": [
        "num_features = 14\n",
        "steps = 120\n",
        "inputs = keras.Input(shape=(steps, num_features))\n",
        "x = layers.SimpleRNN(16, return_sequences=True)(inputs)\n",
        "x = layers.SimpleRNN(16, return_sequences=True)(x)\n",
        "outputs = layers.SimpleRNN(16)(x)\n",
        "print(outputs.shape)"
      ]
    },
    {
      "cell_type": "markdown",
      "metadata": {
        "id": "uoGmGlwwWSIu"
      },
      "source": [
        "## Advanced use of recurrent neural networks"
      ]
    },
    {
      "cell_type": "markdown",
      "metadata": {
        "id": "Pu2rNACjWSIv"
      },
      "source": [
        "### Using recurrent dropout to fight overfitting"
      ]
    },
    {
      "cell_type": "markdown",
      "metadata": {
        "id": "zxyrqvxkWSIv"
      },
      "source": [
        "**Training and evaluating a dropout-regularized LSTM**"
      ]
    },
    {
      "cell_type": "code",
      "execution_count": null,
      "metadata": {
        "id": "C4Ecwew8WSIw",
        "colab": {
          "base_uri": "https://localhost:8080/"
        },
        "outputId": "6c91a66c-508b-4884-bec5-771174d4ee58"
      },
      "outputs": [
        {
          "output_type": "stream",
          "name": "stdout",
          "text": [
            "Epoch 1/50\n",
            "819/819 [==============================] - 215s 259ms/step - loss: 26.9172 - mae: 3.8275 - val_loss: 9.6219 - val_mae: 2.4180\n",
            "Epoch 2/50\n",
            "819/819 [==============================] - 211s 258ms/step - loss: 14.8008 - mae: 2.9895 - val_loss: 9.3478 - val_mae: 2.3748\n",
            "Epoch 3/50\n",
            "819/819 [==============================] - 211s 258ms/step - loss: 14.0247 - mae: 2.9055 - val_loss: 9.3165 - val_mae: 2.3619\n",
            "Epoch 4/50\n",
            "819/819 [==============================] - 212s 259ms/step - loss: 13.4439 - mae: 2.8391 - val_loss: 9.5133 - val_mae: 2.3768\n",
            "Epoch 5/50\n",
            "819/819 [==============================] - 211s 257ms/step - loss: 12.8950 - mae: 2.7837 - val_loss: 9.3442 - val_mae: 2.3621\n",
            "Epoch 6/50\n",
            "819/819 [==============================] - 198s 242ms/step - loss: 12.4728 - mae: 2.7356 - val_loss: 9.4333 - val_mae: 2.3739\n",
            "Epoch 7/50\n",
            "819/819 [==============================] - 198s 241ms/step - loss: 12.2109 - mae: 2.7048 - val_loss: 9.7936 - val_mae: 2.4142\n",
            "Epoch 8/50\n",
            "819/819 [==============================] - 213s 260ms/step - loss: 11.8713 - mae: 2.6628 - val_loss: 9.8790 - val_mae: 2.4408\n",
            "Epoch 9/50\n",
            "819/819 [==============================] - 212s 259ms/step - loss: 11.5483 - mae: 2.6311 - val_loss: 9.7709 - val_mae: 2.4265\n",
            "Epoch 10/50\n",
            "819/819 [==============================] - 210s 257ms/step - loss: 11.3844 - mae: 2.6090 - val_loss: 9.7069 - val_mae: 2.4189\n",
            "Epoch 11/50\n",
            "819/819 [==============================] - 210s 256ms/step - loss: 11.1491 - mae: 2.5843 - val_loss: 9.4710 - val_mae: 2.3950\n",
            "Epoch 12/50\n",
            "819/819 [==============================] - 214s 261ms/step - loss: 11.0814 - mae: 2.5745 - val_loss: 9.6583 - val_mae: 2.4156\n",
            "Epoch 13/50\n",
            "819/819 [==============================] - 200s 244ms/step - loss: 10.9463 - mae: 2.5595 - val_loss: 9.5178 - val_mae: 2.4026\n",
            "Epoch 14/50\n",
            "819/819 [==============================] - 213s 260ms/step - loss: 10.7072 - mae: 2.5364 - val_loss: 9.8198 - val_mae: 2.4254\n",
            "Epoch 15/50\n",
            "819/819 [==============================] - 211s 258ms/step - loss: 10.7131 - mae: 2.5329 - val_loss: 9.6024 - val_mae: 2.4006\n",
            "Epoch 16/50\n",
            "819/819 [==============================] - 201s 245ms/step - loss: 10.4756 - mae: 2.5077 - val_loss: 9.8147 - val_mae: 2.4364\n",
            "Epoch 17/50\n",
            "819/819 [==============================] - 212s 258ms/step - loss: 10.3572 - mae: 2.4936 - val_loss: 9.9231 - val_mae: 2.4495\n",
            "Epoch 18/50\n",
            "819/819 [==============================] - 200s 244ms/step - loss: 10.2880 - mae: 2.4855 - val_loss: 9.9574 - val_mae: 2.4481\n",
            "Epoch 19/50\n",
            "819/819 [==============================] - 197s 240ms/step - loss: 10.1982 - mae: 2.4749 - val_loss: 10.4268 - val_mae: 2.5149\n",
            "Epoch 20/50\n",
            "819/819 [==============================] - 200s 244ms/step - loss: 10.2066 - mae: 2.4731 - val_loss: 10.2405 - val_mae: 2.4820\n",
            "Epoch 21/50\n",
            "819/819 [==============================] - 200s 244ms/step - loss: 10.0513 - mae: 2.4584 - val_loss: 10.1496 - val_mae: 2.4782\n",
            "Epoch 22/50\n",
            "819/819 [==============================] - 200s 244ms/step - loss: 9.9512 - mae: 2.4442 - val_loss: 9.9763 - val_mae: 2.4541\n",
            "Epoch 23/50\n",
            "819/819 [==============================] - 200s 244ms/step - loss: 9.9003 - mae: 2.4363 - val_loss: 10.2718 - val_mae: 2.4839\n",
            "Epoch 24/50\n",
            "819/819 [==============================] - 214s 261ms/step - loss: 9.8408 - mae: 2.4283 - val_loss: 10.2040 - val_mae: 2.4803\n",
            "Epoch 25/50\n",
            "819/819 [==============================] - 202s 246ms/step - loss: 9.7722 - mae: 2.4200 - val_loss: 10.2975 - val_mae: 2.4978\n",
            "Epoch 26/50\n",
            "819/819 [==============================] - 211s 257ms/step - loss: 9.6286 - mae: 2.4024 - val_loss: 10.3230 - val_mae: 2.4966\n",
            "Epoch 27/50\n",
            "819/819 [==============================] - 210s 256ms/step - loss: 9.6570 - mae: 2.4053 - val_loss: 10.2738 - val_mae: 2.4867\n",
            "Epoch 28/50\n",
            "819/819 [==============================] - 201s 245ms/step - loss: 9.5469 - mae: 2.3938 - val_loss: 10.3376 - val_mae: 2.4952\n",
            "Epoch 29/50\n",
            "819/819 [==============================] - 216s 263ms/step - loss: 9.5358 - mae: 2.3919 - val_loss: 10.2612 - val_mae: 2.4925\n",
            "Epoch 30/50\n",
            "819/819 [==============================] - 215s 262ms/step - loss: 9.4695 - mae: 2.3826 - val_loss: 10.5531 - val_mae: 2.5309\n",
            "Epoch 31/50\n",
            "819/819 [==============================] - 214s 260ms/step - loss: 9.3825 - mae: 2.3734 - val_loss: 10.4097 - val_mae: 2.5037\n",
            "Epoch 32/50\n",
            "819/819 [==============================] - 215s 262ms/step - loss: 9.3781 - mae: 2.3703 - val_loss: 10.7645 - val_mae: 2.5558\n",
            "Epoch 33/50\n",
            "819/819 [==============================] - 213s 259ms/step - loss: 9.3146 - mae: 2.3646 - val_loss: 10.6878 - val_mae: 2.5461\n",
            "Epoch 34/50\n",
            "819/819 [==============================] - 212s 258ms/step - loss: 9.2390 - mae: 2.3581 - val_loss: 10.8377 - val_mae: 2.5617\n",
            "Epoch 35/50\n",
            "819/819 [==============================] - 211s 257ms/step - loss: 9.2160 - mae: 2.3515 - val_loss: 10.8802 - val_mae: 2.5661\n",
            "Epoch 36/50\n",
            "819/819 [==============================] - 227s 277ms/step - loss: 9.1638 - mae: 2.3412 - val_loss: 11.0929 - val_mae: 2.5894\n",
            "Epoch 37/50\n",
            "819/819 [==============================] - 227s 277ms/step - loss: 9.1355 - mae: 2.3387 - val_loss: 11.0686 - val_mae: 2.5884\n",
            "Epoch 38/50\n",
            "819/819 [==============================] - 210s 256ms/step - loss: 9.0500 - mae: 2.3304 - val_loss: 11.0645 - val_mae: 2.5887\n",
            "Epoch 39/50\n",
            "819/819 [==============================] - 198s 241ms/step - loss: 9.0394 - mae: 2.3280 - val_loss: 10.8236 - val_mae: 2.5608\n",
            "Epoch 40/50\n",
            "819/819 [==============================] - 201s 246ms/step - loss: 8.9644 - mae: 2.3193 - val_loss: 10.9503 - val_mae: 2.5757\n",
            "Epoch 41/50\n",
            "819/819 [==============================] - 204s 249ms/step - loss: 8.9468 - mae: 2.3167 - val_loss: 11.3721 - val_mae: 2.6226\n",
            "Epoch 42/50\n",
            "819/819 [==============================] - 215s 263ms/step - loss: 8.9459 - mae: 2.3153 - val_loss: 11.0170 - val_mae: 2.5794\n",
            "Epoch 43/50\n",
            "819/819 [==============================] - 215s 262ms/step - loss: 8.9006 - mae: 2.3067 - val_loss: 11.2015 - val_mae: 2.6045\n",
            "Epoch 44/50\n",
            "819/819 [==============================] - 215s 262ms/step - loss: 8.8299 - mae: 2.3015 - val_loss: 11.1928 - val_mae: 2.6018\n",
            "Epoch 45/50\n",
            "819/819 [==============================] - 216s 264ms/step - loss: 8.8180 - mae: 2.2939 - val_loss: 11.1767 - val_mae: 2.5981\n",
            "Epoch 46/50\n",
            "819/819 [==============================] - 213s 260ms/step - loss: 8.7470 - mae: 2.2898 - val_loss: 11.2603 - val_mae: 2.6177\n",
            "Epoch 47/50\n",
            "819/819 [==============================] - 218s 266ms/step - loss: 8.7880 - mae: 2.2940 - val_loss: 11.0446 - val_mae: 2.5928\n",
            "Epoch 48/50\n",
            "819/819 [==============================] - 218s 266ms/step - loss: 8.6917 - mae: 2.2835 - val_loss: 11.1034 - val_mae: 2.5970\n",
            "Epoch 49/50\n",
            "819/819 [==============================] - 200s 243ms/step - loss: 8.7219 - mae: 2.2839 - val_loss: 10.9898 - val_mae: 2.5766\n",
            "Epoch 50/50\n",
            "819/819 [==============================] - 201s 245ms/step - loss: 8.6360 - mae: 2.2762 - val_loss: 11.2584 - val_mae: 2.6121\n"
          ]
        }
      ],
      "source": [
        "inputs = keras.Input(shape=(sequence_length, raw_data.shape[-1]))\n",
        "x = layers.LSTM(32, recurrent_dropout=0.25)(inputs)\n",
        "x = layers.Dropout(0.5)(x)\n",
        "outputs = layers.Dense(1)(x)\n",
        "model = keras.Model(inputs, outputs)\n",
        "\n",
        "callbacks = [\n",
        "    keras.callbacks.ModelCheckpoint(\"jena_lstm_dropout.keras\",\n",
        "                                    save_best_only=True)\n",
        "]\n",
        "model.compile(optimizer=\"rmsprop\", loss=\"mse\", metrics=[\"mae\"])\n",
        "history = model.fit(train_dataset,\n",
        "                    epochs=50,\n",
        "                    validation_data=val_dataset,\n",
        "                    callbacks=callbacks)"
      ]
    },
    {
      "cell_type": "code",
      "source": [
        "print(f\"Test MAE: {model.evaluate(test_dataset)[1]:.2f}\")"
      ],
      "metadata": {
        "colab": {
          "base_uri": "https://localhost:8080/"
        },
        "id": "iP_YSKWd_gQ-",
        "outputId": "9dcb903f-5ea9-49b2-c8e9-8c69aca606ba"
      },
      "execution_count": null,
      "outputs": [
        {
          "output_type": "stream",
          "name": "stdout",
          "text": [
            "405/405 [==============================] - 33s 81ms/step - loss: 11.7097 - mae: 2.6875\n",
            "Test MAE: 2.69\n"
          ]
        }
      ]
    },
    {
      "cell_type": "code",
      "execution_count": null,
      "metadata": {
        "id": "4WgEARgWWSIx"
      },
      "outputs": [],
      "source": [
        "inputs = keras.Input(shape=(sequence_length, num_features))\n",
        "x = layers.LSTM(32, recurrent_dropout=0.2, unroll=True)(inputs)"
      ]
    },
    {
      "cell_type": "markdown",
      "source": [
        "**Plotting results**"
      ],
      "metadata": {
        "id": "9PdRNZxVYPm5"
      }
    },
    {
      "cell_type": "code",
      "source": [
        "import matplotlib.pyplot as plt\n",
        "loss = history.history[\"mae\"]\n",
        "val_loss = history.history[\"val_mae\"]\n",
        "epochs = range(1, len(loss) + 1)\n",
        "plt.figure()\n",
        "plt.plot(epochs, loss, \"bo\", label=\"Training MAE\")\n",
        "plt.plot(epochs, val_loss, \"b\", label=\"Validation MAE\")\n",
        "plt.title(\"Training and validation MAE\")\n",
        "plt.legend()\n",
        "plt.show()"
      ],
      "metadata": {
        "colab": {
          "base_uri": "https://localhost:8080/",
          "height": 452
        },
        "id": "ACSCByPeYTP0",
        "outputId": "2918419e-b96f-46ec-e950-b20efb045f44"
      },
      "execution_count": null,
      "outputs": [
        {
          "output_type": "display_data",
          "data": {
            "text/plain": [
              "<Figure size 640x480 with 1 Axes>"
            ],
            "image/png": "[encoded data removed]"
          },
          "metadata": {}
        }
      ]
    },
    {
      "cell_type": "markdown",
      "metadata": {
        "id": "9vSHQPnXWSIy"
      },
      "source": [
        "### Stacking recurrent layers"
      ]
    },
    {
      "cell_type": "markdown",
      "metadata": {
        "id": "lBDYRhhhWSIz"
      },
      "source": [
        "**Training and evaluating a dropout-regularized, stacked GRU model**"
      ]
    },
    {
      "cell_type": "markdown",
      "source": [
        "GRU is very similar to LSTM—you can think of it as a slightly simpler, streamlined version of the LSTM architecture"
      ],
      "metadata": {
        "id": "LTAyzupZYEPH"
      }
    },
    {
      "cell_type": "code",
      "execution_count": null,
      "metadata": {
        "id": "n53gztw3WSIz",
        "colab": {
          "base_uri": "https://localhost:8080/"
        },
        "outputId": "511f3a24-ab15-485e-f0eb-cab3a5ad5163"
      },
      "outputs": [
        {
          "output_type": "stream",
          "name": "stdout",
          "text": [
            "Epoch 1/50\n",
            "819/819 [==============================] - 340s 408ms/step - loss: 25.8181 - mae: 3.7433 - val_loss: 9.7596 - val_mae: 2.4203\n",
            "Epoch 2/50\n",
            "819/819 [==============================] - 335s 409ms/step - loss: 14.0962 - mae: 2.9105 - val_loss: 9.2046 - val_mae: 2.3579\n",
            "Epoch 3/50\n",
            "819/819 [==============================] - 332s 405ms/step - loss: 13.3592 - mae: 2.8338 - val_loss: 9.9544 - val_mae: 2.4577\n",
            "Epoch 4/50\n",
            "819/819 [==============================] - 332s 406ms/step - loss: 12.7402 - mae: 2.7656 - val_loss: 9.3709 - val_mae: 2.3785\n",
            "Epoch 5/50\n",
            "819/819 [==============================] - 336s 410ms/step - loss: 12.2290 - mae: 2.7130 - val_loss: 8.9820 - val_mae: 2.3268\n",
            "Epoch 6/50\n",
            "819/819 [==============================] - 339s 414ms/step - loss: 11.7841 - mae: 2.6649 - val_loss: 8.9807 - val_mae: 2.3359\n",
            "Epoch 7/50\n",
            "819/819 [==============================] - 333s 406ms/step - loss: 11.4023 - mae: 2.6253 - val_loss: 9.4235 - val_mae: 2.3808\n",
            "Epoch 8/50\n",
            "819/819 [==============================] - 334s 408ms/step - loss: 11.0834 - mae: 2.5899 - val_loss: 9.5974 - val_mae: 2.3952\n",
            "Epoch 9/50\n",
            "819/819 [==============================] - 334s 407ms/step - loss: 10.7139 - mae: 2.5455 - val_loss: 9.7604 - val_mae: 2.4312\n",
            "Epoch 10/50\n",
            "819/819 [==============================] - 381s 465ms/step - loss: 10.4751 - mae: 2.5190 - val_loss: 9.8921 - val_mae: 2.4372\n",
            "Epoch 11/50\n",
            "819/819 [==============================] - 334s 408ms/step - loss: 10.2425 - mae: 2.4925 - val_loss: 10.2700 - val_mae: 2.5015\n",
            "Epoch 12/50\n",
            "819/819 [==============================] - 334s 407ms/step - loss: 10.0004 - mae: 2.4602 - val_loss: 10.2754 - val_mae: 2.4929\n",
            "Epoch 13/50\n",
            "819/819 [==============================] - 334s 407ms/step - loss: 9.7636 - mae: 2.4304 - val_loss: 10.2708 - val_mae: 2.4941\n",
            "Epoch 14/50\n",
            "819/819 [==============================] - 339s 414ms/step - loss: 9.5511 - mae: 2.4037 - val_loss: 10.6381 - val_mae: 2.5579\n",
            "Epoch 15/50\n",
            "819/819 [==============================] - 332s 405ms/step - loss: 9.3782 - mae: 2.3823 - val_loss: 10.6863 - val_mae: 2.5681\n",
            "Epoch 16/50\n",
            "819/819 [==============================] - 333s 406ms/step - loss: 9.2007 - mae: 2.3586 - val_loss: 11.1258 - val_mae: 2.5934\n",
            "Epoch 17/50\n",
            "819/819 [==============================] - 332s 405ms/step - loss: 9.0869 - mae: 2.3440 - val_loss: 11.7863 - val_mae: 2.6754\n",
            "Epoch 18/50\n",
            "819/819 [==============================] - 336s 410ms/step - loss: 8.8921 - mae: 2.3177 - val_loss: 11.1172 - val_mae: 2.5989\n",
            "Epoch 19/50\n",
            "819/819 [==============================] - 332s 405ms/step - loss: 8.7844 - mae: 2.3047 - val_loss: 11.7921 - val_mae: 2.6819\n",
            "Epoch 20/50\n",
            "819/819 [==============================] - 333s 407ms/step - loss: 8.6782 - mae: 2.2913 - val_loss: 11.5611 - val_mae: 2.6439\n",
            "Epoch 21/50\n",
            "819/819 [==============================] - 333s 406ms/step - loss: 8.5593 - mae: 2.2754 - val_loss: 11.6893 - val_mae: 2.6776\n",
            "Epoch 22/50\n",
            "819/819 [==============================] - 337s 411ms/step - loss: 8.4834 - mae: 2.2625 - val_loss: 12.4506 - val_mae: 2.7261\n",
            "Epoch 23/50\n",
            "819/819 [==============================] - 332s 405ms/step - loss: 8.3960 - mae: 2.2536 - val_loss: 11.6729 - val_mae: 2.6698\n",
            "Epoch 24/50\n",
            "819/819 [==============================] - 333s 407ms/step - loss: 8.2625 - mae: 2.2368 - val_loss: 11.8212 - val_mae: 2.6750\n",
            "Epoch 25/50\n",
            "819/819 [==============================] - 333s 407ms/step - loss: 8.2118 - mae: 2.2276 - val_loss: 12.1498 - val_mae: 2.7234\n",
            "Epoch 26/50\n",
            "819/819 [==============================] - 341s 416ms/step - loss: 8.1240 - mae: 2.2150 - val_loss: 12.0914 - val_mae: 2.7130\n",
            "Epoch 27/50\n",
            "819/819 [==============================] - 329s 402ms/step - loss: 8.0451 - mae: 2.2032 - val_loss: 12.8305 - val_mae: 2.7849\n",
            "Epoch 28/50\n",
            "819/819 [==============================] - 331s 405ms/step - loss: 7.9627 - mae: 2.1924 - val_loss: 12.9510 - val_mae: 2.8137\n",
            "Epoch 29/50\n",
            "819/819 [==============================] - 332s 405ms/step - loss: 7.9072 - mae: 2.1872 - val_loss: 12.4124 - val_mae: 2.7534\n",
            "Epoch 30/50\n",
            "819/819 [==============================] - 338s 412ms/step - loss: 7.8381 - mae: 2.1743 - val_loss: 12.9204 - val_mae: 2.8084\n",
            "Epoch 31/50\n",
            "819/819 [==============================] - 332s 405ms/step - loss: 7.8026 - mae: 2.1695 - val_loss: 12.2890 - val_mae: 2.7532\n",
            "Epoch 32/50\n",
            "819/819 [==============================] - 334s 408ms/step - loss: 7.7506 - mae: 2.1618 - val_loss: 12.4582 - val_mae: 2.7537\n",
            "Epoch 33/50\n",
            "819/819 [==============================] - 334s 407ms/step - loss: 7.6870 - mae: 2.1542 - val_loss: 12.2973 - val_mae: 2.7498\n",
            "Epoch 34/50\n",
            "819/819 [==============================] - 337s 412ms/step - loss: 7.6189 - mae: 2.1441 - val_loss: 13.0633 - val_mae: 2.8465\n",
            "Epoch 35/50\n",
            "819/819 [==============================] - 332s 405ms/step - loss: 7.5947 - mae: 2.1418 - val_loss: 13.1805 - val_mae: 2.8573\n",
            "Epoch 36/50\n",
            "819/819 [==============================] - 333s 406ms/step - loss: 7.5149 - mae: 2.1272 - val_loss: 13.1050 - val_mae: 2.8322\n",
            "Epoch 37/50\n",
            "819/819 [==============================] - 333s 407ms/step - loss: 7.4478 - mae: 2.1203 - val_loss: 13.0792 - val_mae: 2.8458\n",
            "Epoch 38/50\n",
            "819/819 [==============================] - 338s 412ms/step - loss: 7.4024 - mae: 2.1101 - val_loss: 12.6318 - val_mae: 2.8039\n",
            "Epoch 39/50\n",
            "819/819 [==============================] - 333s 406ms/step - loss: 7.4139 - mae: 2.1133 - val_loss: 13.4126 - val_mae: 2.8831\n",
            "Epoch 40/50\n",
            "819/819 [==============================] - 334s 407ms/step - loss: 7.3591 - mae: 2.1051 - val_loss: 12.4447 - val_mae: 2.7828\n",
            "Epoch 41/50\n",
            "819/819 [==============================] - 333s 406ms/step - loss: 7.3031 - mae: 2.0974 - val_loss: 13.3836 - val_mae: 2.8767\n",
            "Epoch 42/50\n",
            "819/819 [==============================] - 339s 414ms/step - loss: 7.2719 - mae: 2.0924 - val_loss: 13.2335 - val_mae: 2.8631\n",
            "Epoch 43/50\n",
            "819/819 [==============================] - 334s 407ms/step - loss: 7.2206 - mae: 2.0867 - val_loss: 13.3346 - val_mae: 2.8954\n",
            "Epoch 44/50\n",
            "819/819 [==============================] - 332s 406ms/step - loss: 7.2283 - mae: 2.0839 - val_loss: 13.2680 - val_mae: 2.8623\n",
            "Epoch 45/50\n",
            "819/819 [==============================] - 334s 407ms/step - loss: 7.1560 - mae: 2.0750 - val_loss: 13.4745 - val_mae: 2.9113\n",
            "Epoch 46/50\n",
            "819/819 [==============================] - 344s 420ms/step - loss: 7.1429 - mae: 2.0727 - val_loss: 13.3033 - val_mae: 2.8968\n",
            "Epoch 47/50\n",
            "819/819 [==============================] - 336s 410ms/step - loss: 7.1156 - mae: 2.0676 - val_loss: 13.1501 - val_mae: 2.8667\n",
            "Epoch 48/50\n",
            "819/819 [==============================] - 333s 406ms/step - loss: 7.0728 - mae: 2.0627 - val_loss: 13.7539 - val_mae: 2.9479\n",
            "Epoch 49/50\n",
            "819/819 [==============================] - 334s 407ms/step - loss: 7.0421 - mae: 2.0575 - val_loss: 13.5513 - val_mae: 2.9050\n",
            "Epoch 50/50\n",
            "819/819 [==============================] - 338s 412ms/step - loss: 7.0481 - mae: 2.0541 - val_loss: 13.9732 - val_mae: 2.9623\n",
            "405/405 [==============================] - 43s 103ms/step - loss: 9.6827 - mae: 2.4462\n",
            "Test MAE: 2.45\n"
          ]
        }
      ],
      "source": [
        "inputs = keras.Input(shape=(sequence_length, raw_data.shape[-1]))\n",
        "x = layers.GRU(32, recurrent_dropout=0.5, return_sequences=True)(inputs)\n",
        "x = layers.GRU(32, recurrent_dropout=0.5)(x)\n",
        "x = layers.Dropout(0.5)(x)\n",
        "outputs = layers.Dense(1)(x)\n",
        "model = keras.Model(inputs, outputs)\n",
        "\n",
        "callbacks = [\n",
        "    keras.callbacks.ModelCheckpoint(\"jena_stacked_gru_dropout.keras\",\n",
        "                                    save_best_only=True)\n",
        "]\n",
        "model.compile(optimizer=\"rmsprop\", loss=\"mse\", metrics=[\"mae\"])\n",
        "history = model.fit(train_dataset,\n",
        "                    epochs=50,\n",
        "                    validation_data=val_dataset,\n",
        "                    callbacks=callbacks)\n",
        "model = keras.models.load_model(\"jena_stacked_gru_dropout.keras\")\n",
        "print(f\"Test MAE: {model.evaluate(test_dataset)[1]:.2f}\")"
      ]
    },
    {
      "cell_type": "markdown",
      "source": [
        "**Plotting results**"
      ],
      "metadata": {
        "id": "OaHzj-cwYVoQ"
      }
    },
    {
      "cell_type": "code",
      "source": [
        "import matplotlib.pyplot as plt\n",
        "loss = history.history[\"mae\"]\n",
        "val_loss = history.history[\"val_mae\"]\n",
        "epochs = range(1, len(loss) + 1)\n",
        "plt.figure()\n",
        "plt.plot(epochs, loss, \"bo\", label=\"Training MAE\")\n",
        "plt.plot(epochs, val_loss, \"b\", label=\"Validation MAE\")\n",
        "plt.title(\"Training and validation MAE\")\n",
        "plt.legend()\n",
        "plt.show()"
      ],
      "metadata": {
        "colab": {
          "base_uri": "https://localhost:8080/",
          "height": 452
        },
        "id": "jRfJ5qfYYVAw",
        "outputId": "92b83996-621a-4334-8db6-a6392e4490e1"
      },
      "execution_count": null,
      "outputs": [
        {
          "output_type": "display_data",
          "data": {
            "text/plain": [
              "<Figure size 640x480 with 1 Axes>"
            ],
            "image/png": "[encoded data removed]"
          },
          "metadata": {}
        }
      ]
    },
    {
      "cell_type": "markdown",
      "metadata": {
        "id": "3SaLlFpMWSI1"
      },
      "source": [
        "### Using bidirectional RNNs"
      ]
    },
    {
      "cell_type": "markdown",
      "metadata": {
        "id": "H4O5URChWSI2"
      },
      "source": [
        "**Training and evaluating a bidirectional LSTM**"
      ]
    },
    {
      "cell_type": "markdown",
      "source": [
        "\n",
        "RNNs are notably order-dependent:\n",
        "* they process the timesteps of their input sequences in order,\n",
        "* and shuffling or reversing the timesteps can completely change the representations the RNN extracts from the sequence.\n",
        "* This is precisely the reason they perform well on problems where order is meaningful, such as the temperature forecasting problem.\n",
        "\n",
        "A bidirectional RNN exploits the order sensitivity of RNNs:\n",
        "* it uses two regular RNNs, such as the GRU and LSTM layers you’re already familiar with, each of which processes the input sequence in one direction (chronologically and antichronologically), and then merges their representations.\n",
        "* By processing a sequence both ways, a bidirectional RNN can catch patterns that may be overlooked by a unidirectional RNN"
      ],
      "metadata": {
        "id": "JcGSPhR9ZNXV"
      }
    },
    {
      "cell_type": "code",
      "execution_count": null,
      "metadata": {
        "id": "Q9jBgdvXWSI2",
        "colab": {
          "base_uri": "https://localhost:8080/"
        },
        "outputId": "513d29b3-1ac9-45f4-b911-7ba2234377b2"
      },
      "outputs": [
        {
          "output_type": "stream",
          "name": "stdout",
          "text": [
            "Epoch 1/10\n",
            "819/819 [==============================] - 161s 191ms/step - loss: 28.9374 - mae: 3.8435 - val_loss: 10.5075 - val_mae: 2.5228\n",
            "Epoch 2/10\n",
            "819/819 [==============================] - 145s 177ms/step - loss: 9.4464 - mae: 2.3975 - val_loss: 9.8875 - val_mae: 2.4316\n",
            "Epoch 3/10\n",
            "819/819 [==============================] - 142s 173ms/step - loss: 8.6195 - mae: 2.2916 - val_loss: 9.6216 - val_mae: 2.4038\n",
            "Epoch 4/10\n",
            "819/819 [==============================] - 154s 188ms/step - loss: 8.0944 - mae: 2.2230 - val_loss: 10.1962 - val_mae: 2.4675\n",
            "Epoch 5/10\n",
            "819/819 [==============================] - 154s 188ms/step - loss: 7.6819 - mae: 2.1739 - val_loss: 10.8714 - val_mae: 2.5458\n",
            "Epoch 6/10\n",
            "819/819 [==============================] - 149s 182ms/step - loss: 7.3067 - mae: 2.1210 - val_loss: 10.8726 - val_mae: 2.5643\n",
            "Epoch 7/10\n",
            "819/819 [==============================] - 153s 186ms/step - loss: 7.0254 - mae: 2.0785 - val_loss: 10.8107 - val_mae: 2.5479\n",
            "Epoch 8/10\n",
            "819/819 [==============================] - 153s 187ms/step - loss: 6.7941 - mae: 2.0420 - val_loss: 11.0032 - val_mae: 2.5651\n",
            "Epoch 9/10\n",
            "819/819 [==============================] - 156s 190ms/step - loss: 6.5847 - mae: 2.0129 - val_loss: 10.8047 - val_mae: 2.5444\n",
            "Epoch 10/10\n",
            "819/819 [==============================] - 155s 188ms/step - loss: 6.4343 - mae: 1.9896 - val_loss: 11.4933 - val_mae: 2.6325\n"
          ]
        }
      ],
      "source": [
        "inputs = keras.Input(shape=(sequence_length, raw_data.shape[-1]))\n",
        "x = layers.Bidirectional(layers.LSTM(16))(inputs)\n",
        "outputs = layers.Dense(1)(x)\n",
        "model = keras.Model(inputs, outputs)\n",
        "\n",
        "model.compile(optimizer=\"rmsprop\", loss=\"mse\", metrics=[\"mae\"])\n",
        "history = model.fit(train_dataset,\n",
        "                    epochs=10,\n",
        "                    validation_data=val_dataset)"
      ]
    },
    {
      "cell_type": "code",
      "source": [
        "print(f\"Test MAE: {model.evaluate(test_dataset)[1]:.2f}\")"
      ],
      "metadata": {
        "colab": {
          "base_uri": "https://localhost:8080/"
        },
        "id": "ThzLYWUn_oIQ",
        "outputId": "28b9aaf7-29f8-450f-a49e-d8d84d4bed2e"
      },
      "execution_count": null,
      "outputs": [
        {
          "output_type": "stream",
          "name": "stdout",
          "text": [
            "405/405 [==============================] - 32s 78ms/step - loss: 11.7097 - mae: 2.6875\n",
            "Test MAE: 2.69\n"
          ]
        }
      ]
    },
    {
      "cell_type": "markdown",
      "source": [
        "**Plotting results**"
      ],
      "metadata": {
        "id": "cmW4lMN6dV2J"
      }
    },
    {
      "cell_type": "code",
      "source": [
        "import matplotlib.pyplot as plt\n",
        "loss = history.history[\"mae\"]\n",
        "val_loss = history.history[\"val_mae\"]\n",
        "epochs = range(1, len(loss) + 1)\n",
        "plt.figure()\n",
        "plt.plot(epochs, loss, \"bo\", label=\"Training MAE\")\n",
        "plt.plot(epochs, val_loss, \"b\", label=\"Validation MAE\")\n",
        "plt.title(\"Training and validation MAE\")\n",
        "plt.legend()\n",
        "plt.show()"
      ],
      "metadata": {
        "colab": {
          "base_uri": "https://localhost:8080/",
          "height": 452
        },
        "id": "R44JR2kHdO2M",
        "outputId": "7d9b1512-5df1-4c8b-a9a6-979ed3dea5fb"
      },
      "execution_count": null,
      "outputs": [
        {
          "output_type": "display_data",
          "data": {
            "text/plain": [
              "<Figure size 640x480 with 1 Axes>"
            ],
            "image/png": "[encoded data removed]"
          },
          "metadata": {}
        }
      ]
    }
  ],
  "metadata": {
    "colab": {
      "provenance": [],
      "toc_visible": true
    },
    "kernelspec": {
      "display_name": "Python 3",
      "name": "python3"
    },
    "language_info": {
      "codemirror_mode": {
        "name": "ipython",
        "version": 3
      },
      "file_extension": ".py",
      "mimetype": "text/x-python",
      "name": "python",
      "nbconvert_exporter": "python",
      "pygments_lexer": "ipython3",
      "version": "3.7.0"
    }
  },
  "nbformat": 4,
  "nbformat_minor": 0
}